{
 "cells": [
  {
   "cell_type": "markdown",
   "id": "5c38c3d8-b2af-41fd-ba2b-8d482b540535",
   "metadata": {},
   "source": [
    "### (Optional) Install Neural A* on Colab\n",
    "\n",
    "We highly recommend the use of GPUs for faster training/planning."
   ]
  },
  {
   "cell_type": "code",
   "execution_count": 5,
   "id": "48af7a83-b074-47f1-a1de-cb4da97f6f1d",
   "metadata": {},
   "outputs": [
    {
     "name": "stdout",
     "output_type": "stream",
     "text": [
      "Cloning into 'neural-astar'...\n",
      "remote: Enumerating objects: 424, done.\u001b[K\n",
      "remote: Counting objects: 100% (72/72), done.\u001b[K\n",
      "remote: Compressing objects: 100% (32/32), done.\u001b[K\n",
      "remote: Total 424 (delta 53), reused 40 (delta 40), pack-reused 352\u001b[K\n",
      "Receiving objects: 100% (424/424), 11.23 MiB | 14.01 MiB/s, done.\n",
      "Resolving deltas: 100% (179/179), done.\n",
      "Submodule 'planning-datasets' (https://github.com/omron-sinicx/planning-datasets) registered for path 'planning-datasets'\n",
      "Cloning into '/home/at83yvah/neural-astar/notebooks/neural-astar/planning-datasets'...\n",
      "remote: Enumerating objects: 51, done.        \n",
      "remote: Counting objects: 100% (10/10), done.        \n",
      "remote: Compressing objects: 100% (8/8), done.        \n",
      "remote: Total 51 (delta 4), reused 4 (delta 2), pack-reused 41        \n",
      "Receiving objects: 100% (51/51), 58.10 MiB | 21.35 MiB/s, done.\n",
      "Resolving deltas: 100% (7/7), done.\n",
      "Submodule path 'planning-datasets': checked out '7f8953c4b0f511c2cc03410abfdb3687d54deafb'\n",
      "Submodule 'data/mpd/original' (https://github.com/mohakbhardwaj/motion_planning_datasets) registered for path 'planning-datasets/data/mpd/original'\n",
      "Cloning into '/home/at83yvah/neural-astar/notebooks/neural-astar/planning-datasets/data/mpd/original'...\n",
      "remote: Enumerating objects: 6870, done.        \n",
      "remote: Total 6870 (delta 0), reused 0 (delta 0), pack-reused 6870        \n",
      "Receiving objects: 100% (6870/6870), 2.15 MiB | 19.48 MiB/s, done.\n",
      "Resolving deltas: 100% (1126/1126), done.\n",
      "Submodule path 'planning-datasets/data/mpd/original': checked out 'ba1f0871f4201591d76fbb80476b2f957298e693'\n"
     ]
    }
   ],
   "source": [
    "!git clone --recursive https://github.com/omron-sinicx/neural-astar"
   ]
  },
  {
   "cell_type": "code",
   "execution_count": null,
   "id": "7c736d92-e32a-4db6-84ca-7489745d3bf1",
   "metadata": {},
   "outputs": [
    {
     "name": "stdout",
     "output_type": "stream",
     "text": [
      "[Errno 2] No such file or directory: 'neural-astar'\n",
      "/home/at83yvah/neural-astar/notebooks/neural-astar\n"
     ]
    },
    {
     "name": "stderr",
     "output_type": "stream",
     "text": [
      "/home/at83yvah/.local/lib/python3.9/site-packages/IPython/core/magics/osm.py:393: UserWarning: using bookmarks requires you to install the `pickleshare` library.\n",
      "  bkms = self.shell.db.get('bookmarks', {})\n"
     ]
    },
    {
     "name": "stdout",
     "output_type": "stream",
     "text": [
      "Found existing installation: numpy 2.0.0\n",
      "Uninstalling numpy-2.0.0:\n",
      "  Would remove:\n",
      "    /home/at83yvah/.local/bin/f2py\n",
      "    /home/at83yvah/.local/bin/numpy-config\n",
      "    /home/at83yvah/.local/lib/python3.9/site-packages/numpy-2.0.0.dist-info/*\n",
      "    /home/at83yvah/.local/lib/python3.9/site-packages/numpy.libs/libgfortran-040039e1-0352e75f.so.5.0.0\n",
      "    /home/at83yvah/.local/lib/python3.9/site-packages/numpy.libs/libquadmath-96973f99-934c22de.so.0.0.0\n",
      "    /home/at83yvah/.local/lib/python3.9/site-packages/numpy.libs/libscipy_openblas64_-99b71e71.so\n",
      "    /home/at83yvah/.local/lib/python3.9/site-packages/numpy/*\n",
      "Proceed (Y/n)? "
     ]
    }
   ],
   "source": [
    "%cd neural-astar\n",
    "!pip install -U pip setuptools\n",
    "!pip install ."
   ]
  },
  {
   "cell_type": "markdown",
   "id": "31c233be-e0b7-481f-aec1-6dedbfcbd411",
   "metadata": {},
   "source": [
    "## Shortest path search with Neural A* \n",
    "\n",
    "Neural A\\*, as well as vanilla differentiable A\\* can be instantiated just like a neural network module."
   ]
  },
  {
   "cell_type": "code",
   "execution_count": 7,
   "id": "3be60ed1-dc18-421a-9ee0-598254bdd19c",
   "metadata": {},
   "outputs": [
    {
     "name": "stderr",
     "output_type": "stream",
     "text": [
      "\n",
      "A module that was compiled using NumPy 1.x cannot be run in\n",
      "NumPy 2.0.0 as it may crash. To support both 1.x and 2.x\n",
      "versions of NumPy, modules must be compiled with NumPy 2.0.\n",
      "Some module may need to rebuild instead e.g. with 'pybind11>=2.12'.\n",
      "\n",
      "If you are a user of the module, the easiest solution will be to\n",
      "downgrade to 'numpy<2' or try to upgrade the affected module.\n",
      "We expect that some modules will need time to support NumPy 2.\n",
      "\n",
      "Traceback (most recent call last):  File \"/usr/lib64/python3.9/runpy.py\", line 197, in _run_module_as_main\n",
      "    return _run_code(code, main_globals, None,\n",
      "  File \"/usr/lib64/python3.9/runpy.py\", line 87, in _run_code\n",
      "    exec(code, run_globals)\n",
      "  File \"/home/at83yvah/.local/lib/python3.9/site-packages/ipykernel_launcher.py\", line 18, in <module>\n",
      "    app.launch_new_instance()\n",
      "  File \"/home/at83yvah/.local/lib/python3.9/site-packages/traitlets/config/application.py\", line 1075, in launch_instance\n",
      "    app.start()\n",
      "  File \"/home/at83yvah/.local/lib/python3.9/site-packages/ipykernel/kernelapp.py\", line 739, in start\n",
      "    self.io_loop.start()\n",
      "  File \"/home/at83yvah/.local/lib/python3.9/site-packages/tornado/platform/asyncio.py\", line 205, in start\n",
      "    self.asyncio_loop.run_forever()\n",
      "  File \"/usr/lib64/python3.9/asyncio/base_events.py\", line 601, in run_forever\n",
      "    self._run_once()\n",
      "  File \"/usr/lib64/python3.9/asyncio/base_events.py\", line 1905, in _run_once\n",
      "    handle._run()\n",
      "  File \"/usr/lib64/python3.9/asyncio/events.py\", line 80, in _run\n",
      "    self._context.run(self._callback, *self._args)\n",
      "  File \"/home/at83yvah/.local/lib/python3.9/site-packages/ipykernel/kernelbase.py\", line 545, in dispatch_queue\n",
      "    await self.process_one()\n",
      "  File \"/home/at83yvah/.local/lib/python3.9/site-packages/ipykernel/kernelbase.py\", line 534, in process_one\n",
      "    await dispatch(*args)\n",
      "  File \"/home/at83yvah/.local/lib/python3.9/site-packages/ipykernel/kernelbase.py\", line 437, in dispatch_shell\n",
      "    await result\n",
      "  File \"/home/at83yvah/.local/lib/python3.9/site-packages/ipykernel/ipkernel.py\", line 362, in execute_request\n",
      "    await super().execute_request(stream, ident, parent)\n",
      "  File \"/home/at83yvah/.local/lib/python3.9/site-packages/ipykernel/kernelbase.py\", line 778, in execute_request\n",
      "    reply_content = await reply_content\n",
      "  File \"/home/at83yvah/.local/lib/python3.9/site-packages/ipykernel/ipkernel.py\", line 449, in do_execute\n",
      "    res = shell.run_cell(\n",
      "  File \"/home/at83yvah/.local/lib/python3.9/site-packages/ipykernel/zmqshell.py\", line 549, in run_cell\n",
      "    return super().run_cell(*args, **kwargs)\n",
      "  File \"/home/at83yvah/.local/lib/python3.9/site-packages/IPython/core/interactiveshell.py\", line 3048, in run_cell\n",
      "    result = self._run_cell(\n",
      "  File \"/home/at83yvah/.local/lib/python3.9/site-packages/IPython/core/interactiveshell.py\", line 3103, in _run_cell\n",
      "    result = runner(coro)\n",
      "  File \"/home/at83yvah/.local/lib/python3.9/site-packages/IPython/core/async_helpers.py\", line 129, in _pseudo_sync_runner\n",
      "    coro.send(None)\n",
      "  File \"/home/at83yvah/.local/lib/python3.9/site-packages/IPython/core/interactiveshell.py\", line 3308, in run_cell_async\n",
      "    has_raised = await self.run_ast_nodes(code_ast.body, cell_name,\n",
      "  File \"/home/at83yvah/.local/lib/python3.9/site-packages/IPython/core/interactiveshell.py\", line 3490, in run_ast_nodes\n",
      "    if await self.run_code(code, result, async_=asy):\n",
      "  File \"/home/at83yvah/.local/lib/python3.9/site-packages/IPython/core/interactiveshell.py\", line 3550, in run_code\n",
      "    exec(code_obj, self.user_global_ns, self.user_ns)\n",
      "  File \"/tmp/ipykernel_3569709/4184543670.py\", line 2, in <module>\n",
      "    from neural_astar.planner import NeuralAstar, VanillaAstar\n",
      "  File \"/home/at83yvah/.local/lib/python3.9/site-packages/neural_astar/planner/__init__.py\", line 1, in <module>\n",
      "    from .astar import NeuralAstar, VanillaAstar\n",
      "  File \"/home/at83yvah/.local/lib/python3.9/site-packages/neural_astar/planner/astar.py\", line 12, in <module>\n",
      "    from . import encoder\n",
      "  File \"/home/at83yvah/.local/lib/python3.9/site-packages/neural_astar/planner/encoder.py\", line 7, in <module>\n",
      "    import segmentation_models_pytorch as smp\n",
      "  File \"/home/at83yvah/.local/lib/python3.9/site-packages/segmentation_models_pytorch/__init__.py\", line 2, in <module>\n",
      "    from . import encoders\n",
      "  File \"/home/at83yvah/.local/lib/python3.9/site-packages/segmentation_models_pytorch/encoders/__init__.py\", line 1, in <module>\n",
      "    import timm\n",
      "  File \"/home/at83yvah/.local/lib/python3.9/site-packages/timm/__init__.py\", line 2, in <module>\n",
      "    from .models import create_model, list_models, is_model, list_modules, model_entrypoint, \\\n",
      "  File \"/home/at83yvah/.local/lib/python3.9/site-packages/timm/models/__init__.py\", line 1, in <module>\n",
      "    from .byoanet import *\n",
      "  File \"/home/at83yvah/.local/lib/python3.9/site-packages/timm/models/byoanet.py\", line 15, in <module>\n",
      "    from timm.data import IMAGENET_DEFAULT_MEAN, IMAGENET_DEFAULT_STD\n",
      "  File \"/home/at83yvah/.local/lib/python3.9/site-packages/timm/data/__init__.py\", line 7, in <module>\n",
      "    from .loader import create_loader\n",
      "  File \"/home/at83yvah/.local/lib/python3.9/site-packages/timm/data/loader.py\", line 12, in <module>\n",
      "    from .transforms_factory import create_transform\n",
      "  File \"/home/at83yvah/.local/lib/python3.9/site-packages/timm/data/transforms_factory.py\", line 9, in <module>\n",
      "    from torchvision import transforms\n",
      "  File \"/home/at83yvah/.local/lib/python3.9/site-packages/torchvision/__init__.py\", line 7, in <module>\n",
      "    from torchvision import models\n",
      "  File \"/home/at83yvah/.local/lib/python3.9/site-packages/torchvision/models/__init__.py\", line 16, in <module>\n",
      "    from . import detection\n",
      "  File \"/home/at83yvah/.local/lib/python3.9/site-packages/torchvision/models/detection/__init__.py\", line 1, in <module>\n",
      "    from .faster_rcnn import *\n",
      "  File \"/home/at83yvah/.local/lib/python3.9/site-packages/torchvision/models/detection/faster_rcnn.py\", line 16, in <module>\n",
      "    from .anchor_utils import AnchorGenerator\n",
      "  File \"/home/at83yvah/.local/lib/python3.9/site-packages/torchvision/models/detection/anchor_utils.py\", line 10, in <module>\n",
      "    class AnchorGenerator(nn.Module):\n",
      "  File \"/home/at83yvah/.local/lib/python3.9/site-packages/torchvision/models/detection/anchor_utils.py\", line 63, in AnchorGenerator\n",
      "    device: torch.device = torch.device(\"cpu\"),\n",
      "/home/at83yvah/.local/lib/python3.9/site-packages/torchvision/models/detection/anchor_utils.py:63: UserWarning: Failed to initialize NumPy: _ARRAY_API not found (Triggered internally at  ../torch/csrc/utils/tensor_numpy.cpp:68.)\n",
      "  device: torch.device = torch.device(\"cpu\"),\n"
     ]
    },
    {
     "ename": "IndexError",
     "evalue": "list index out of range",
     "output_type": "error",
     "traceback": [
      "\u001b[0;31m---------------------------------------------------------------------------\u001b[0m",
      "\u001b[0;31mIndexError\u001b[0m                                Traceback (most recent call last)",
      "Cell \u001b[0;32mIn[7], line 8\u001b[0m\n\u001b[1;32m      5\u001b[0m device \u001b[38;5;241m=\u001b[39m \u001b[38;5;124m\"\u001b[39m\u001b[38;5;124mcuda\u001b[39m\u001b[38;5;124m\"\u001b[39m \u001b[38;5;28;01mif\u001b[39;00m torch\u001b[38;5;241m.\u001b[39mcuda\u001b[38;5;241m.\u001b[39mis_available() \u001b[38;5;28;01melse\u001b[39;00m \u001b[38;5;124m\"\u001b[39m\u001b[38;5;124mcpu\u001b[39m\u001b[38;5;124m\"\u001b[39m\n\u001b[1;32m      7\u001b[0m neural_astar \u001b[38;5;241m=\u001b[39m NeuralAstar(encoder_arch\u001b[38;5;241m=\u001b[39m\u001b[38;5;124m'\u001b[39m\u001b[38;5;124mCNN\u001b[39m\u001b[38;5;124m'\u001b[39m)\u001b[38;5;241m.\u001b[39mto(device)\n\u001b[0;32m----> 8\u001b[0m neural_astar\u001b[38;5;241m.\u001b[39mload_state_dict(\u001b[43mload_from_ptl_checkpoint\u001b[49m\u001b[43m(\u001b[49m\u001b[38;5;124;43m\"\u001b[39;49m\u001b[38;5;124;43m../model/mazes_032_moore_c8/lightning_logs/\u001b[39;49m\u001b[38;5;124;43m\"\u001b[39;49m\u001b[43m)\u001b[49m)\n\u001b[1;32m     10\u001b[0m vanilla_astar \u001b[38;5;241m=\u001b[39m VanillaAstar()\u001b[38;5;241m.\u001b[39mto(device)\n",
      "File \u001b[0;32m~/.local/lib/python3.9/site-packages/neural_astar/utils/training.py:31\u001b[0m, in \u001b[0;36mload_from_ptl_checkpoint\u001b[0;34m(checkpoint_path)\u001b[0m\n\u001b[1;32m     20\u001b[0m \u001b[38;5;28;01mdef\u001b[39;00m \u001b[38;5;21mload_from_ptl_checkpoint\u001b[39m(checkpoint_path: \u001b[38;5;28mstr\u001b[39m) \u001b[38;5;241m-\u001b[39m\u001b[38;5;241m>\u001b[39m \u001b[38;5;28mdict\u001b[39m:\n\u001b[1;32m     21\u001b[0m \u001b[38;5;250m    \u001b[39m\u001b[38;5;124;03m\"\"\"\u001b[39;00m\n\u001b[1;32m     22\u001b[0m \u001b[38;5;124;03m    Load model weights from PyTorch Lightning checkpoint.\u001b[39;00m\n\u001b[1;32m     23\u001b[0m \n\u001b[0;32m   (...)\u001b[0m\n\u001b[1;32m     28\u001b[0m \u001b[38;5;124;03m        dict: model state dict\u001b[39;00m\n\u001b[1;32m     29\u001b[0m \u001b[38;5;124;03m    \"\"\"\u001b[39;00m\n\u001b[0;32m---> 31\u001b[0m     ckpt_file \u001b[38;5;241m=\u001b[39m \u001b[38;5;28;43msorted\u001b[39;49m\u001b[43m(\u001b[49m\u001b[43mglob\u001b[49m\u001b[43m(\u001b[49m\u001b[38;5;124;43mf\u001b[39;49m\u001b[38;5;124;43m\"\u001b[39;49m\u001b[38;5;132;43;01m{\u001b[39;49;00m\u001b[43mcheckpoint_path\u001b[49m\u001b[38;5;132;43;01m}\u001b[39;49;00m\u001b[38;5;124;43m/**/*.ckpt\u001b[39;49m\u001b[38;5;124;43m\"\u001b[39;49m\u001b[43m,\u001b[49m\u001b[43m \u001b[49m\u001b[43mrecursive\u001b[49m\u001b[38;5;241;43m=\u001b[39;49m\u001b[38;5;28;43;01mTrue\u001b[39;49;00m\u001b[43m)\u001b[49m\u001b[43m)\u001b[49m\u001b[43m[\u001b[49m\u001b[38;5;241;43m-\u001b[39;49m\u001b[38;5;241;43m1\u001b[39;49m\u001b[43m]\u001b[49m\n\u001b[1;32m     32\u001b[0m     \u001b[38;5;28mprint\u001b[39m(\u001b[38;5;124mf\u001b[39m\u001b[38;5;124m\"\u001b[39m\u001b[38;5;124mload \u001b[39m\u001b[38;5;132;01m{\u001b[39;00mckpt_file\u001b[38;5;132;01m}\u001b[39;00m\u001b[38;5;124m\"\u001b[39m)\n\u001b[1;32m     33\u001b[0m     state_dict \u001b[38;5;241m=\u001b[39m torch\u001b[38;5;241m.\u001b[39mload(ckpt_file)[\u001b[38;5;124m\"\u001b[39m\u001b[38;5;124mstate_dict\u001b[39m\u001b[38;5;124m\"\u001b[39m]\n",
      "\u001b[0;31mIndexError\u001b[0m: list index out of range"
     ]
    }
   ],
   "source": [
    "import torch\n",
    "from neural_astar.planner import NeuralAstar, VanillaAstar\n",
    "from neural_astar.utils.training import load_from_ptl_checkpoint\n",
    "\n",
    "device = \"cuda\" if torch.cuda.is_available() else \"cpu\"\n",
    "\n",
    "neural_astar = NeuralAstar(encoder_arch='CNN').to(device)\n",
    "neural_astar.load_state_dict(load_from_ptl_checkpoint(\"../model/mazes_032_moore_c8/lightning_logs/\"))\n",
    "\n",
    "vanilla_astar = VanillaAstar().to(device)"
   ]
  },
  {
   "cell_type": "markdown",
   "id": "4bccd8a3-0e8f-49b9-8f25-8dabc1f27bc6",
   "metadata": {},
   "source": [
    "Running these A\\* modules requires `map_designs` (obstacle layouts), `start_maps`, and `goal_maps` (one-hot maps indicating start and goal locations), which should each have the shape of `(batch_size, 1, map_size, map_size)`."
   ]
  },
  {
   "cell_type": "code",
   "execution_count": null,
   "id": "65e0113e-7cc9-4adc-b04b-d1f5dc18e30c",
   "metadata": {},
   "outputs": [],
   "source": [
    "import matplotlib.pyplot as plt\n",
    "from neural_astar.utils.data import create_dataloader\n",
    "\n",
    "dataloader = create_dataloader(\"../planning-datasets/data/mpd/mazes_032_moore_c8.npz\", \"test\", 8)\n",
    "map_designs, start_maps, goal_maps, _ = next(iter(dataloader))\n",
    "\n",
    "fig, axes = plt.subplots(2, 3, figsize=[8, 5])\n",
    "for i in range(2):\n",
    "    axes[i, 0].imshow(map_designs.numpy()[i, 0])\n",
    "    axes[i, 0].set_title(\"map_design\")\n",
    "    axes[i, 0].axis(\"off\")\n",
    "    axes[i, 1].imshow(start_maps.numpy()[i, 0])\n",
    "    axes[i, 1].set_title(\"start_map\")\n",
    "    axes[i, 1].axis(\"off\")\n",
    "    axes[i, 2].imshow(goal_maps.numpy()[i, 0])\n",
    "    axes[i, 2].set_title(\"goal_map\")\n",
    "    axes[i, 2].axis(\"off\")"
   ]
  },
  {
   "cell_type": "markdown",
   "id": "7c1b7e1b-cd15-4e4e-ab53-9324351c2797",
   "metadata": {},
   "source": [
    "Then, search can be performed by simply forwarding the model. The output is namedtuple `AstarOutput` with `histories` (search history maps) and `paths` (path maps)."
   ]
  },
  {
   "cell_type": "code",
   "execution_count": 3,
   "id": "dbe81f3f-6f19-46cc-ad24-74c00151e28f",
   "metadata": {},
   "outputs": [
    {
     "name": "stderr",
     "output_type": "stream",
     "text": [
      "/home/yonetani/programs/omron-sinicx/neural-astar/.venv/lib/python3.9/site-packages/torch/functional.py:478: UserWarning: torch.meshgrid: in an upcoming release, it will be required to pass the indexing argument. (Triggered internally at  ../aten/src/ATen/native/TensorShape.cpp:2895.)\n",
      "  return _VF.meshgrid(tensors, **kwargs)  # type: ignore[attr-defined]\n"
     ]
    },
    {
     "data": {
      "text/plain": [
       "(-0.5, 273.5, 35.5, -0.5)"
      ]
     },
     "execution_count": 3,
     "metadata": {},
     "output_type": "execute_result"
    },
    {
     "data": {
      "image/png": "[encoded data removed]",
      "text/plain": [
       "<Figure size 1200x400 with 2 Axes>"
      ]
     },
     "metadata": {},
     "output_type": "display_data"
    }
   ],
   "source": [
    "from neural_astar.utils.data import visualize_results\n",
    "\n",
    "neural_astar.eval()\n",
    "na_outputs = neural_astar(map_designs.to(device), start_maps.to(device), goal_maps.to(device))\n",
    "vanilla_astar.eval()\n",
    "va_outputs = vanilla_astar(map_designs.to(device), start_maps.to(device), goal_maps.to(device))\n",
    "\n",
    "fig, axes = plt.subplots(2, 1, figsize=[12, 4])\n",
    "axes[0].imshow(visualize_results(map_designs, na_outputs))\n",
    "axes[0].set_title(\"Neural A*\")\n",
    "axes[0].axis(\"off\")\n",
    "axes[1].imshow(visualize_results(map_designs, va_outputs))\n",
    "axes[1].set_title(\"Vanilla A*\")\n",
    "axes[1].axis(\"off\")"
   ]
  },
  {
   "cell_type": "code",
   "execution_count": null,
   "id": "dc2a6ef6-95d8-46df-a6a7-065ea4225196",
   "metadata": {},
   "outputs": [],
   "source": []
  }
 ],
 "metadata": {
  "kernelspec": {
   "display_name": "Python 3 (ipykernel)",
   "language": "python",
   "name": "python3"
  },
  "language_info": {
   "codemirror_mode": {
    "name": "ipython",
    "version": 3
   },
   "file_extension": ".py",
   "mimetype": "text/x-python",
   "name": "python",
   "nbconvert_exporter": "python",
   "pygments_lexer": "ipython3",
   "version": "3.9.18"
  }
 },
 "nbformat": 4,
 "nbformat_minor": 5
}
